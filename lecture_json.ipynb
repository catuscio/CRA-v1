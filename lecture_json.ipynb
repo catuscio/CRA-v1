{
 "cells": [
  {
   "cell_type": "code",
   "execution_count": 1,
   "metadata": {},
   "outputs": [
    {
     "name": "stderr",
     "output_type": "stream",
     "text": [
      "c:\\Users\\catuscio\\anaconda3\\envs\\RAG\\lib\\site-packages\\pypdf\\_crypt_providers\\_cryptography.py:32: CryptographyDeprecationWarning: ARC4 has been moved to cryptography.hazmat.decrepit.ciphers.algorithms.ARC4 and will be removed from cryptography.hazmat.primitives.ciphers.algorithms in 48.0.0.\n",
      "  from cryptography.hazmat.primitives.ciphers.algorithms import AES, ARC4\n"
     ]
    }
   ],
   "source": [
    "from langchain_community.document_loaders import JSONLoader\n",
    "from langchain.embeddings.sentence_transformer import SentenceTransformerEmbeddings\n",
    "from langchain_community.vectorstores import Chroma\n",
    "from langchain_community.embeddings import OpenAIEmbeddings\n",
    "from langchain_core.documents import Document\n",
    "from langchain_upstage import UpstageEmbeddings\n",
    "from langchain_community.document_loaders import TextLoader\n",
    "from langchain_text_splitters import CharacterTextSplitter\n"
   ]
  },
  {
   "cell_type": "code",
   "execution_count": 2,
   "metadata": {},
   "outputs": [],
   "source": [
    "path = \"./lectures.txt\""
   ]
  },
  {
   "cell_type": "code",
   "execution_count": 3,
   "metadata": {},
   "outputs": [
    {
     "name": "stdout",
     "output_type": "stream",
     "text": [
      "{\"abbreviation\": \"창기\", \"lecture\": \"창업과기업가정신\"}\n",
      "{\"abbreviation\": \"문쓰발\", \"lecture\": \"문제해결을위한글쓰기와발표\"}\n",
      "{\"abbreviation\": \"서철\", \"lecture\": \"서양철학:쟁점과토론\"}\n",
      "{\"abbreviation\": \"ELP\", \"lecture\": \"English Listening Practice\"}\n",
      "{\"abbreviation\": \"ERP\", \"lecture\": \"English Reading Practice\"}\n",
      "{\"abbreviation\": \"우자인\", \"lecture\": \"우주자연인간\"}\n",
      "{\"abbreviation\": \"대영\", \"lecture\": \"대학영어\"}\n",
      "{\"abbreviation\": \"세진설\", \"lecture\": \"세종인을위한진로설계\"}\n",
      "{\"abbreviation\": \"공수\", \"lecture\": \"공업수학1\"}\n",
      "{\"abbreviation\": \"일물\", \"lecture\": \"일반물리학1\"}\n",
      "{\"abbreviation\": \"일생\", \"lecture\": \"일반생물학\"}\n",
      "{\"abbreviation\": \"일화\", \"lecture\": \"일반화학1\"}\n",
      "{\"abbreviation\": \"컴기코\", \"lecture\": \"컴퓨터사고기반기초코딩\"}\n",
      "{\"abbreviation\": \"소기코\", \"lecture\": \"SW기초코딩\"}\n",
      "{\"abbreviation\": \"고프활\", \"lecture\": \"고급프로그래밍활용\"}\n",
      "{\"abbreviation\": \"사과수\", \"lecture\": \"사회과학수학\"}\n",
      "{\"abbreviation\": \"정사윤\", \"lecture\": \"정보사회의사이버윤리\"}\n",
      "{\"abbreviation\": \"역한영\", \"lecture\": \"역사와한국의영토\"}\n",
      "{\"abbreviation\": \"동고강\", \"lecture\": \"동양고전강독\"}\n",
      "{\"abbreviation\": \"서고강\", \"lecture\": \"서양고전강독\"}\n",
      "{\"abbreviation\": \"한현사\", \"lecture\": \"한국현대사의이해\"}\n",
      "{\"abbreviation\": \"고전특강\", \"lecture\": \"고전특강\"}\n",
      "{\"abbreviation\": \"수집현\", \"lecture\": \"수요집현강좌\"}\n",
      "{\"abbreviation\": \"미심치\", \"lecture\": \"미술심리치료\"}\n",
      "{\"abbreviation\": \"세사봉\", \"lecture\": \"세종사회봉사\"}\n",
      "{\"abbreviation\": \"현과초\", \"lecture\": \"현대과학으로의초대\"}\n",
      "{\"abbreviation\": \"현사법\", \"lecture\": \"현대사회와법\"}\n",
      "{\"abbreviation\": \"컴메\", \"lecture\": \"컴퓨터게임과메타버스\"}\n",
      "{\"abbreviation\": \"인지빅\", \"lecture\": \"인공지능과빅데이터\"}\n",
      "{\"abbreviation\": \"취창업\", \"lecture\": \"취창업과진로설계\"}\n",
      "{\"abbreviation\": \"신세\", \"lecture\": \"신입생세미나\"}\n"
     ]
    }
   ],
   "source": [
    "with open(path) as f:\n",
    "    data = f.read()\n",
    "print(data)"
   ]
  },
  {
   "cell_type": "code",
   "execution_count": 4,
   "metadata": {},
   "outputs": [],
   "source": [
    "# # JSONLoader 생성\n",
    "# loader = TextLoader(path)\n",
    "# docs = loader.load()\n",
    "# docs"
   ]
  },
  {
   "cell_type": "code",
   "execution_count": 5,
   "metadata": {},
   "outputs": [],
   "source": [
    "# 줄바꿈을 기준으로 먼저 분리\n",
    "lines = data.split('\\n')\n",
    "\n",
    "# 각 줄을 개별적으로 처리\n",
    "chunks = [line.strip() for line in lines if line.strip()]"
   ]
  },
  {
   "cell_type": "code",
   "execution_count": 6,
   "metadata": {},
   "outputs": [
    {
     "data": {
      "text/plain": [
       "'{\"abbreviation\": \"일생\", \"lecture\": \"일반생물학\"}'"
      ]
     },
     "execution_count": 6,
     "metadata": {},
     "output_type": "execute_result"
    }
   ],
   "source": [
    "chunks[10]"
   ]
  },
  {
   "cell_type": "code",
   "execution_count": 7,
   "metadata": {},
   "outputs": [],
   "source": [
    "#embeddings = OpenAIEmbeddings()\n",
    "embeddings=UpstageEmbeddings(model=\"embedding-passage\")"
   ]
  },
  {
   "cell_type": "code",
   "execution_count": 8,
   "metadata": {},
   "outputs": [],
   "source": [
    "DB_PATH = \"./lecs\"\n",
    "persist_db = Chroma.from_texts(\n",
    "    chunks, embeddings, persist_directory=DB_PATH, collection_name=\"lectures\"\n",
    ")"
   ]
  },
  {
   "cell_type": "code",
   "execution_count": 17,
   "metadata": {},
   "outputs": [],
   "source": [
    "retriever = persist_db.as_retriever(search_kwargs={\"k\": 1})"
   ]
  },
  {
   "cell_type": "code",
   "execution_count": 18,
   "metadata": {},
   "outputs": [
    {
     "data": {
      "text/plain": [
       "[Document(metadata={}, page_content='{\"abbreviation\": \"우자인\", \"lecture\": \"우주자연인간\"}')]"
      ]
     },
     "execution_count": 18,
     "metadata": {},
     "output_type": "execute_result"
    }
   ],
   "source": [
    "retriever.invoke(\"우자인 뭐야?\")"
   ]
  },
  {
   "cell_type": "code",
   "execution_count": null,
   "metadata": {},
   "outputs": [],
   "source": []
  }
 ],
 "metadata": {
  "kernelspec": {
   "display_name": "RAG",
   "language": "python",
   "name": "python3"
  },
  "language_info": {
   "codemirror_mode": {
    "name": "ipython",
    "version": 3
   },
   "file_extension": ".py",
   "mimetype": "text/x-python",
   "name": "python",
   "nbconvert_exporter": "python",
   "pygments_lexer": "ipython3",
   "version": "3.10.16"
  }
 },
 "nbformat": 4,
 "nbformat_minor": 2
}
